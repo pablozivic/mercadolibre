{
 "cells": [
  {
   "cell_type": "code",
   "execution_count": 1,
   "metadata": {},
   "outputs": [],
   "source": [
    "import numpy as np\n",
    "import pandas as pd\n",
    "from sklearn.metrics import balanced_accuracy_score as bas\n",
    "import gc\n",
    "gc.enable()\n",
    "\n",
    "from sklearn.linear_model import LogisticRegression, SGDClassifier\n",
    "\n",
    "from os import listdir\n",
    "from os.path import isfile, join"
   ]
  },
  {
   "cell_type": "code",
   "execution_count": 2,
   "metadata": {},
   "outputs": [
    {
     "name": "stderr",
     "output_type": "stream",
     "text": [
      "/store/tveiga/miniconda3/envs/py/lib/python3.7/site-packages/numpy/lib/arraysetops.py:522: FutureWarning: elementwise comparison failed; returning scalar instead, but in the future will perform elementwise comparison\n",
      "  mask |= (ar1 == a)\n"
     ]
    }
   ],
   "source": [
    "data = pd.read_csv('../data-reduced-800-v3-shuffled.csv', index_col = 0)\n",
    "testfile = pd.read_csv('../test.csv')\n",
    "catcode = pd.read_csv('../data-simplified-1-catcode.csv', header = None, names = ['category'])['category']"
   ]
  },
  {
   "cell_type": "code",
   "execution_count": 3,
   "metadata": {},
   "outputs": [],
   "source": [
    "sp = int(len(data) * 0.8) # Split Point\n",
    "sp2 = len(data)\n",
    "y_train = data.category.values[:sp]\n",
    "y_test = data.category.values[sp:sp2]\n",
    "rel = data.label_quality.values[sp:sp2]"
   ]
  },
  {
   "cell_type": "markdown",
   "metadata": {},
   "source": [
    "## Val"
   ]
  },
  {
   "cell_type": "code",
   "execution_count": 4,
   "metadata": {},
   "outputs": [],
   "source": [
    "DIR = '../ensemb3/'"
   ]
  },
  {
   "cell_type": "code",
   "execution_count": 5,
   "metadata": {},
   "outputs": [],
   "source": [
    "from os import listdir\n",
    "from os.path import isfile, join\n",
    "val = {f[4:-4] : f for f in listdir(DIR) if ((isfile(join(DIR, f))) and f[0] == 'v')}"
   ]
  },
  {
   "cell_type": "code",
   "execution_count": 6,
   "metadata": {},
   "outputs": [
    {
     "data": {
      "text/plain": [
       "{'sgd_char-v7': 'val_sgd_char-v7.csv',\n",
       " 'lstm_word': 'val_lstm_word.csv',\n",
       " 'lstm_char_unproc': 'val_lstm_char_unproc.csv',\n",
       " 'mnb': 'val_mnb.csv',\n",
       " 'sgd_word-v7': 'val_sgd_word-v7.csv',\n",
       " 'sgd_char-v7_45': 'val_sgd_char-v7_45.csv'}"
      ]
     },
     "execution_count": 6,
     "metadata": {},
     "output_type": "execute_result"
    }
   ],
   "source": [
    "val"
   ]
  },
  {
   "cell_type": "code",
   "execution_count": 9,
   "metadata": {},
   "outputs": [
    {
     "name": "stdout",
     "output_type": "stream",
     "text": [
      "sgd_char-v7\n",
      "lstm_word\n",
      "lstm_char_unproc\n",
      "mnb\n",
      "sgd_word-v7\n",
      "sgd_char-v7_45\n",
      "CPU times: user 5min 18s, sys: 12.3 s, total: 5min 30s\n",
      "Wall time: 6min 47s\n"
     ]
    }
   ],
   "source": [
    "%%time\n",
    "for k, v in val.items():\n",
    "    print(k)\n",
    "    val[k] = pd.read_csv(DIR+v, dtype = np.float32, header = None, index_col = False)"
   ]
  },
  {
   "cell_type": "code",
   "execution_count": 11,
   "metadata": {
    "scrolled": true
   },
   "outputs": [],
   "source": [
    "classes = pd.Series(range(1588))\n",
    "out = classes.loc[~classes.isin(pd.Series(y_test[rel == 0]))]\n",
    "outsiders = pd.Series(y_test).isin(out)"
   ]
  },
  {
   "cell_type": "code",
   "execution_count": 12,
   "metadata": {},
   "outputs": [
    {
     "data": {
      "text/plain": [
       "(90465, 275165)"
      ]
     },
     "execution_count": 12,
     "metadata": {},
     "output_type": "execute_result"
    }
   ],
   "source": [
    "num_rels = (rel == 0).sum()\n",
    "num_rels, len(rel)"
   ]
  },
  {
   "cell_type": "code",
   "execution_count": 13,
   "metadata": {},
   "outputs": [],
   "source": [
    "dfs = sorted(val.keys() - {})"
   ]
  },
  {
   "cell_type": "code",
   "execution_count": 14,
   "metadata": {},
   "outputs": [],
   "source": [
    "X = np.zeros((len(y_test) * 1588, len(dfs)), dtype = np.float32)\n",
    "y = np.zeros((len(X)), dtype = np.int32)"
   ]
  },
  {
   "cell_type": "code",
   "execution_count": 15,
   "metadata": {},
   "outputs": [],
   "source": [
    "val_len = len(y_test)"
   ]
  },
  {
   "cell_type": "code",
   "execution_count": 16,
   "metadata": {},
   "outputs": [
    {
     "name": "stdout",
     "output_type": "stream",
     "text": [
      "sgd_char-v7 (275165, 1588)\n",
      "lstm_word (275165, 1588)\n",
      "lstm_char_unproc (275165, 1588)\n",
      "mnb (275165, 1588)\n",
      "sgd_word-v7 (275165, 1588)\n",
      "sgd_char-v7_45 (275165, 1588)\n"
     ]
    }
   ],
   "source": [
    "for k, v in val.items():\n",
    "    print(k, v.shape)"
   ]
  },
  {
   "cell_type": "code",
   "execution_count": 17,
   "metadata": {},
   "outputs": [],
   "source": [
    "# %%time\n",
    "mask = rel == 0\n",
    "for i in range(1588):\n",
    "    for d, df in enumerate(dfs):\n",
    "        X[i * val_len : (i + 1) * val_len, d] = val[df].values[:, i]\n",
    "        y[i * val_len : (i + 1) * val_len] = 1 * (y_test == i)\n",
    "        \n",
    "#         X[i * val_len : (i + 1) * val_len, d] = val[df].values[mask, i]\n",
    "#         y[i * val_len : (i + 1) * val_len] = 1 * (y_test[mask] == i)"
   ]
  },
  {
   "cell_type": "code",
   "execution_count": 24,
   "metadata": {},
   "outputs": [],
   "source": [
    "ix = np.random.randint(0, len(X), len(X) // 100) # better than shuffle arange ??? how?"
   ]
  },
  {
   "cell_type": "code",
   "execution_count": 25,
   "metadata": {},
   "outputs": [
    {
     "name": "stdout",
     "output_type": "stream",
     "text": [
      "CPU times: user 5.56 s, sys: 47.9 ms, total: 5.61 s\n",
      "Wall time: 5.01 s\n"
     ]
    }
   ],
   "source": [
    "%%time\n",
    "est = SGDClassifier(loss = 'modified_huber', max_iter=10, tol =  1e-5, penalty='l2', alpha = 1e-4)\n",
    "est.fit(X[ix], y[ix]) # consider sample weight?"
   ]
  },
  {
   "cell_type": "code",
   "execution_count": 26,
   "metadata": {
    "scrolled": true
   },
   "outputs": [
    {
     "name": "stdout",
     "output_type": "stream",
     "text": [
      "0.9170534864774611\n",
      "CPU times: user 9.56 s, sys: 737 ms, total: 10.3 s\n",
      "Wall time: 4.96 s\n"
     ]
    },
    {
     "name": "stderr",
     "output_type": "stream",
     "text": [
      "/store/tveiga/miniconda3/envs/py/lib/python3.7/site-packages/sklearn/metrics/classification.py:1437: UserWarning: y_pred contains classes not in y_true\n",
      "  warnings.warn('y_pred contains classes not in y_true')\n"
     ]
    }
   ],
   "source": [
    "%%time\n",
    "# 0.916317 (10)\n",
    "new = sum(val[df].values[mask] * coef for df, coef in zip(dfs, est.coef_.flatten())) / est.coef_.sum()\n",
    "val_pred = new.argmax(axis = 1)\n",
    "print(bas(y_test[rel == 0], val_pred))"
   ]
  },
  {
   "cell_type": "code",
   "execution_count": 27,
   "metadata": {},
   "outputs": [
    {
     "name": "stdout",
     "output_type": "stream",
     "text": [
      "'lstm_char_unproc' : 0.15214980219793464,\n",
      "'lstm_word' : 0.5057028723619695,\n",
      "'mnb' : 0.45090371936039003,\n",
      "'sgd_char-v7' : 0.32103481728540106,\n",
      "'sgd_char-v7_45' : 0.35221132620470513,\n",
      "'sgd_word-v7' : 0.39905860580347985,\n"
     ]
    }
   ],
   "source": [
    "# 0.9170534864774611\n",
    "for df, coef in zip(dfs, est.coef_.flatten()):\n",
    "    print(f\"'{df}' : {coef},\")"
   ]
  },
  {
   "cell_type": "code",
   "execution_count": null,
   "metadata": {},
   "outputs": [],
   "source": []
  },
  {
   "cell_type": "code",
   "execution_count": 13,
   "metadata": {},
   "outputs": [],
   "source": [
    "# These values were obtained in the cell above\n",
    "coefval = {\n",
    "'lstm_char_unproc' : 0.15214980219793464,\n",
    "'lstm_word' : 0.5057028723619695,\n",
    "'mnb' : 0.45090371936039003,\n",
    "'sgd_char-v7' : 0.32103481728540106,\n",
    "'sgd_char-v7_45' : 0.35221132620470513,\n",
    "'sgd_word-v7' : 0.39905860580347985,\n",
    "}"
   ]
  },
  {
   "cell_type": "code",
   "execution_count": null,
   "metadata": {},
   "outputs": [],
   "source": []
  },
  {
   "cell_type": "code",
   "execution_count": 14,
   "metadata": {},
   "outputs": [
    {
     "name": "stdout",
     "output_type": "stream",
     "text": [
      "CPU times: user 33.9 s, sys: 17.7 s, total: 51.6 s\n",
      "Wall time: 11.1 s\n"
     ]
    }
   ],
   "source": [
    "%%time\n",
    "ensemble_val = sum(val[df] * coef for df, coef in coefval.items()) / sum(coefval.values())"
   ]
  },
  {
   "cell_type": "code",
   "execution_count": 15,
   "metadata": {},
   "outputs": [
    {
     "name": "stdout",
     "output_type": "stream",
     "text": [
      "CPU times: user 7min 21s, sys: 9.85 s, total: 7min 30s\n",
      "Wall time: 7min 38s\n"
     ]
    }
   ],
   "source": [
    "%%time\n",
    "ensemble_val.to_csv('../ensens/val_ensemble11.csv', index = False, header = False)"
   ]
  },
  {
   "cell_type": "markdown",
   "metadata": {},
   "source": [
    "## Test"
   ]
  },
  {
   "cell_type": "code",
   "execution_count": 30,
   "metadata": {},
   "outputs": [],
   "source": [
    "DIR = '../ensemb3/'"
   ]
  },
  {
   "cell_type": "code",
   "execution_count": 31,
   "metadata": {},
   "outputs": [],
   "source": [
    "test = {f[5:-4] : f for f in listdir(DIR) if ((isfile(join(DIR, f))) and f[0] == 't')}"
   ]
  },
  {
   "cell_type": "code",
   "execution_count": 32,
   "metadata": {},
   "outputs": [
    {
     "data": {
      "text/plain": [
       "({'lstm_word': 'test_lstm_word.csv',\n",
       "  'lstm_char_unproc': 'test_lstm_char_unproc.csv',\n",
       "  'sgd_char-v7_45': 'test_sgd_char-v7_45.csv',\n",
       "  'sgd_word-v7': 'test_sgd_word-v7.csv',\n",
       "  'mnb': 'test_mnb.csv',\n",
       "  'sgd_char-v7': 'test_sgd_char-v7.csv'},\n",
       " 6)"
      ]
     },
     "execution_count": 32,
     "metadata": {},
     "output_type": "execute_result"
    }
   ],
   "source": [
    "test, len(test)"
   ]
  },
  {
   "cell_type": "code",
   "execution_count": 35,
   "metadata": {},
   "outputs": [
    {
     "name": "stdout",
     "output_type": "stream",
     "text": [
      "lstm_word\n",
      "lstm_char_unproc\n",
      "sgd_char-v7_45\n",
      "sgd_word-v7\n",
      "mnb\n",
      "sgd_char-v7\n",
      "CPU times: user 5min 20s, sys: 13.7 s, total: 5min 34s\n",
      "Wall time: 6min 41s\n"
     ]
    }
   ],
   "source": [
    "%%time\n",
    "for k, v in test.items():\n",
    "    print(k)\n",
    "    test[k] = pd.read_csv(DIR+v, header = None, index_col = False)"
   ]
  },
  {
   "cell_type": "code",
   "execution_count": 36,
   "metadata": {},
   "outputs": [],
   "source": [
    "# These values were obtained in the section above\n",
    "coeftest = {\n",
    "'lstm_char_unproc' : 0.15214980219793464,\n",
    "'lstm_word' : 0.5057028723619695,\n",
    "'mnb' : 0.45090371936039003,\n",
    "'sgd_char-v7' : 0.32103481728540106,\n",
    "'sgd_char-v7_45' : 0.35221132620470513,\n",
    "'sgd_word-v7' : 0.39905860580347985,\n",
    "}"
   ]
  },
  {
   "cell_type": "code",
   "execution_count": null,
   "metadata": {},
   "outputs": [],
   "source": []
  },
  {
   "cell_type": "code",
   "execution_count": 37,
   "metadata": {},
   "outputs": [
    {
     "name": "stdout",
     "output_type": "stream",
     "text": [
      "CPU times: user 35.6 s, sys: 11.5 s, total: 47.1 s\n",
      "Wall time: 16.5 s\n"
     ]
    }
   ],
   "source": [
    "%%time\n",
    "ensemble = sum(test[df] * coef for df, coef in coeftest.items()) / sum(coeftest.values())"
   ]
  },
  {
   "cell_type": "code",
   "execution_count": 38,
   "metadata": {},
   "outputs": [],
   "source": [
    "sample = pd.read_csv('../sample_submission.csv')"
   ]
  },
  {
   "cell_type": "code",
   "execution_count": 39,
   "metadata": {},
   "outputs": [
    {
     "name": "stdout",
     "output_type": "stream",
     "text": [
      "CPU times: user 3.37 s, sys: 569 ms, total: 3.94 s\n",
      "Wall time: 3.84 s\n"
     ]
    }
   ],
   "source": [
    "%%time\n",
    "sample['category'] = np.vectorize(catcode.get)(ensemble.values.argmax(axis=1))"
   ]
  },
  {
   "cell_type": "code",
   "execution_count": 40,
   "metadata": {},
   "outputs": [
    {
     "data": {
      "text/html": [
       "<div>\n",
       "<style scoped>\n",
       "    .dataframe tbody tr th:only-of-type {\n",
       "        vertical-align: middle;\n",
       "    }\n",
       "\n",
       "    .dataframe tbody tr th {\n",
       "        vertical-align: top;\n",
       "    }\n",
       "\n",
       "    .dataframe thead th {\n",
       "        text-align: right;\n",
       "    }\n",
       "</style>\n",
       "<table border=\"1\" class=\"dataframe\">\n",
       "  <thead>\n",
       "    <tr style=\"text-align: right;\">\n",
       "      <th></th>\n",
       "      <th>id</th>\n",
       "      <th>category</th>\n",
       "    </tr>\n",
       "  </thead>\n",
       "  <tbody>\n",
       "    <tr>\n",
       "      <th>0</th>\n",
       "      <td>0</td>\n",
       "      <td>DIAPER_BAGS</td>\n",
       "    </tr>\n",
       "    <tr>\n",
       "      <th>1</th>\n",
       "      <td>1</td>\n",
       "      <td>BABY_CHANGING_PADS</td>\n",
       "    </tr>\n",
       "    <tr>\n",
       "      <th>2</th>\n",
       "      <td>2</td>\n",
       "      <td>ENGINE_COOLING_FAN_MOTORS</td>\n",
       "    </tr>\n",
       "    <tr>\n",
       "      <th>3</th>\n",
       "      <td>3</td>\n",
       "      <td>AUTOMOTIVE_SHOCK_ABSORBER_BUMP_STOPS</td>\n",
       "    </tr>\n",
       "    <tr>\n",
       "      <th>4</th>\n",
       "      <td>4</td>\n",
       "      <td>BABY_CAR_SEATS</td>\n",
       "    </tr>\n",
       "  </tbody>\n",
       "</table>\n",
       "</div>"
      ],
      "text/plain": [
       "   id                              category\n",
       "0   0                           DIAPER_BAGS\n",
       "1   1                    BABY_CHANGING_PADS\n",
       "2   2             ENGINE_COOLING_FAN_MOTORS\n",
       "3   3  AUTOMOTIVE_SHOCK_ABSORBER_BUMP_STOPS\n",
       "4   4                        BABY_CAR_SEATS"
      ]
     },
     "execution_count": 40,
     "metadata": {},
     "output_type": "execute_result"
    }
   ],
   "source": [
    "sample.head()"
   ]
  },
  {
   "cell_type": "code",
   "execution_count": 42,
   "metadata": {},
   "outputs": [
    {
     "data": {
      "text/plain": [
       "(246955, 2)"
      ]
     },
     "execution_count": 42,
     "metadata": {},
     "output_type": "execute_result"
    }
   ],
   "source": [
    "sample.to_csv('../submission_ensemble11.csv', index = False)\n",
    "sample.shape"
   ]
  },
  {
   "cell_type": "code",
   "execution_count": 43,
   "metadata": {},
   "outputs": [
    {
     "data": {
      "text/html": [
       "<div>\n",
       "<style scoped>\n",
       "    .dataframe tbody tr th:only-of-type {\n",
       "        vertical-align: middle;\n",
       "    }\n",
       "\n",
       "    .dataframe tbody tr th {\n",
       "        vertical-align: top;\n",
       "    }\n",
       "\n",
       "    .dataframe thead th {\n",
       "        text-align: right;\n",
       "    }\n",
       "</style>\n",
       "<table border=\"1\" class=\"dataframe\">\n",
       "  <thead>\n",
       "    <tr style=\"text-align: right;\">\n",
       "      <th></th>\n",
       "      <th>id</th>\n",
       "      <th>category</th>\n",
       "    </tr>\n",
       "  </thead>\n",
       "  <tbody>\n",
       "    <tr>\n",
       "      <th>0</th>\n",
       "      <td>0</td>\n",
       "      <td>DIAPER_BAGS</td>\n",
       "    </tr>\n",
       "    <tr>\n",
       "      <th>1</th>\n",
       "      <td>1</td>\n",
       "      <td>BABY_CHANGING_PADS</td>\n",
       "    </tr>\n",
       "    <tr>\n",
       "      <th>2</th>\n",
       "      <td>2</td>\n",
       "      <td>ENGINE_COOLING_FAN_MOTORS</td>\n",
       "    </tr>\n",
       "    <tr>\n",
       "      <th>3</th>\n",
       "      <td>3</td>\n",
       "      <td>AUTOMOTIVE_SHOCK_ABSORBER_BUMP_STOPS</td>\n",
       "    </tr>\n",
       "    <tr>\n",
       "      <th>4</th>\n",
       "      <td>4</td>\n",
       "      <td>BABY_CAR_SEATS</td>\n",
       "    </tr>\n",
       "  </tbody>\n",
       "</table>\n",
       "</div>"
      ],
      "text/plain": [
       "   id                              category\n",
       "0   0                           DIAPER_BAGS\n",
       "1   1                    BABY_CHANGING_PADS\n",
       "2   2             ENGINE_COOLING_FAN_MOTORS\n",
       "3   3  AUTOMOTIVE_SHOCK_ABSORBER_BUMP_STOPS\n",
       "4   4                        BABY_CAR_SEATS"
      ]
     },
     "execution_count": 43,
     "metadata": {},
     "output_type": "execute_result"
    }
   ],
   "source": [
    "pd.read_csv('../submission_ensemble11.csv').head()"
   ]
  },
  {
   "cell_type": "code",
   "execution_count": 44,
   "metadata": {},
   "outputs": [
    {
     "name": "stdout",
     "output_type": "stream",
     "text": [
      "CPU times: user 6min 30s, sys: 12.3 s, total: 6min 42s\n",
      "Wall time: 6min 50s\n"
     ]
    }
   ],
   "source": [
    "%%time\n",
    "ensemble.to_csv('../ensens/test_ensemble11.csv', index = False, header = False)"
   ]
  }
 ],
 "metadata": {
  "kernelspec": {
   "display_name": "Python 3",
   "language": "python",
   "name": "python3"
  },
  "language_info": {
   "codemirror_mode": {
    "name": "ipython",
    "version": 3
   },
   "file_extension": ".py",
   "mimetype": "text/x-python",
   "name": "python",
   "nbconvert_exporter": "python",
   "pygments_lexer": "ipython3",
   "version": "3.7.2"
  }
 },
 "nbformat": 4,
 "nbformat_minor": 2
}
