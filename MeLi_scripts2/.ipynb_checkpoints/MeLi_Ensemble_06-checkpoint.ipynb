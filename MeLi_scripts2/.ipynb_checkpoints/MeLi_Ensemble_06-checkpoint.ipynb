{
 "cells": [
  {
   "cell_type": "code",
   "execution_count": 1,
   "metadata": {},
   "outputs": [],
   "source": [
    "import numpy as np\n",
    "import pandas as pd\n",
    "from sklearn.metrics import balanced_accuracy_score as bas\n",
    "import gc\n",
    "gc.enable()\n",
    "\n",
    "from sklearn.linear_model import LogisticRegression, SGDClassifier\n",
    "\n",
    "from os import listdir\n",
    "from os.path import isfile, join"
   ]
  },
  {
   "cell_type": "code",
   "execution_count": 2,
   "metadata": {},
   "outputs": [
    {
     "name": "stderr",
     "output_type": "stream",
     "text": [
      "/store/tveiga/miniconda3/envs/py/lib/python3.7/site-packages/numpy/lib/arraysetops.py:522: FutureWarning: elementwise comparison failed; returning scalar instead, but in the future will perform elementwise comparison\n",
      "  mask |= (ar1 == a)\n"
     ]
    }
   ],
   "source": [
    "data = pd.read_csv('../data-reduced-800-v2-shuffled.csv', index_col = 0)\n",
    "testfile = pd.read_csv('../test.csv')\n",
    "catcode = pd.read_csv('../data-simplified-1-catcode.csv', header = None, names = ['category'])['category']"
   ]
  },
  {
   "cell_type": "code",
   "execution_count": 3,
   "metadata": {},
   "outputs": [],
   "source": [
    "sp = int(len(data) * 0.8) # Split Point\n",
    "sp2 = len(data)\n",
    "y_train = data.category.values[:sp]\n",
    "y_test = data.category.values[sp:sp2]\n",
    "rel = data.label_quality.values[sp:sp2]"
   ]
  },
  {
   "cell_type": "markdown",
   "metadata": {},
   "source": [
    "## Val"
   ]
  },
  {
   "cell_type": "code",
   "execution_count": 4,
   "metadata": {},
   "outputs": [],
   "source": [
    "DIR = '../ensemb2/'"
   ]
  },
  {
   "cell_type": "code",
   "execution_count": 5,
   "metadata": {},
   "outputs": [],
   "source": [
    "from os import listdir\n",
    "from os.path import isfile, join\n",
    "val = {f[4:-4] : f for f in listdir(DIR) if ((isfile(join(DIR, f))) and f[0] == 'v')}"
   ]
  },
  {
   "cell_type": "code",
   "execution_count": 6,
   "metadata": {},
   "outputs": [
    {
     "data": {
      "text/plain": [
       "{'lstm_word': 'val_lstm_word.csv',\n",
       " 'mnb_word-v1': 'val_mnb_word-v1.csv',\n",
       " 'lstm_char_vanila': 'val_lstm_char_vanila.csv',\n",
       " 'sgd_word-v4': 'val_sgd_word-v4.csv',\n",
       " 'sgd_char': 'val_sgd_char.csv'}"
      ]
     },
     "execution_count": 6,
     "metadata": {},
     "output_type": "execute_result"
    }
   ],
   "source": [
    "val"
   ]
  },
  {
   "cell_type": "code",
   "execution_count": 7,
   "metadata": {},
   "outputs": [
    {
     "name": "stdout",
     "output_type": "stream",
     "text": [
      "lstm_word\n",
      "mnb_word-v1\n",
      "lstm_char_vanila\n",
      "sgd_word-v4\n",
      "sgd_char\n",
      "CPU times: user 4min 20s, sys: 8.27 s, total: 4min 28s\n",
      "Wall time: 4min 58s\n"
     ]
    }
   ],
   "source": [
    "%%time\n",
    "for k, v in val.items():\n",
    "    print(k)\n",
    "    val[k] = pd.read_csv(DIR+v, dtype = np.float32, header = None, index_col = False)"
   ]
  },
  {
   "cell_type": "code",
   "execution_count": null,
   "metadata": {},
   "outputs": [],
   "source": []
  },
  {
   "cell_type": "code",
   "execution_count": 8,
   "metadata": {
    "scrolled": true
   },
   "outputs": [],
   "source": [
    "classes = pd.Series(range(1588))\n",
    "out = classes.loc[~classes.isin(pd.Series(y_test[rel == 0]))]\n",
    "outsiders = pd.Series(y_test).isin(out)"
   ]
  },
  {
   "cell_type": "code",
   "execution_count": 9,
   "metadata": {},
   "outputs": [],
   "source": [
    "dfs = sorted(val.keys() - {})"
   ]
  },
  {
   "cell_type": "code",
   "execution_count": 10,
   "metadata": {},
   "outputs": [],
   "source": [
    "X = np.zeros((len(y_test) * 1588, len(dfs)), dtype = np.float32)\n",
    "y = np.zeros((len(X)), dtype = np.int32)"
   ]
  },
  {
   "cell_type": "code",
   "execution_count": 15,
   "metadata": {},
   "outputs": [],
   "source": [
    "val_len = len(y_test)"
   ]
  },
  {
   "cell_type": "code",
   "execution_count": 17,
   "metadata": {},
   "outputs": [
    {
     "name": "stdout",
     "output_type": "stream",
     "text": [
      "CPU times: user 6.21 s, sys: 0 ns, total: 6.21 s\n",
      "Wall time: 6.21 s\n"
     ]
    }
   ],
   "source": [
    "%%time\n",
    "for i in range(1588):\n",
    "    for d, df in enumerate(dfs):\n",
    "#         print(val[df].shape)\n",
    "#         X[i * 251177 : (i + 1) * 251177, d] = val[df].iloc[:, i].values\n",
    "        X[i * val_len : (i + 1) * val_len, d] = val[df].iloc[:, i].values\n",
    "        y[i * val_len : (i + 1) * val_len] = 1 * (y_test == i)"
   ]
  },
  {
   "cell_type": "code",
   "execution_count": 53,
   "metadata": {},
   "outputs": [],
   "source": [
    "ix = np.random.randint(0, len(X), len(X) // 100) # better than shuffle arange ??? how?"
   ]
  },
  {
   "cell_type": "code",
   "execution_count": 54,
   "metadata": {},
   "outputs": [
    {
     "name": "stdout",
     "output_type": "stream",
     "text": [
      "CPU times: user 5.22 s, sys: 268 ms, total: 5.49 s\n",
      "Wall time: 4.89 s\n"
     ]
    }
   ],
   "source": [
    "%%time\n",
    "est = SGDClassifier(loss = 'modified_huber', max_iter=10, tol =  1e-5, penalty='l2', alpha = 1e-4)\n",
    "est.fit(X[ix], y[ix]) # consider sample weight?"
   ]
  },
  {
   "cell_type": "code",
   "execution_count": 55,
   "metadata": {
    "scrolled": true
   },
   "outputs": [
    {
     "name": "stdout",
     "output_type": "stream",
     "text": [
      "CPU times: user 2.34 s, sys: 1.34 s, total: 3.68 s\n",
      "Wall time: 3.68 s\n"
     ]
    }
   ],
   "source": [
    "%%time\n",
    "new = sum(val[df].values * coef for df, coef in zip(dfs, est.coef_.flatten())) / est.coef_.sum()"
   ]
  },
  {
   "cell_type": "code",
   "execution_count": 56,
   "metadata": {},
   "outputs": [
    {
     "name": "stdout",
     "output_type": "stream",
     "text": [
      "0.9132868946593294\n",
      "0.8466530849275833\n",
      "CPU times: user 2.25 s, sys: 317 ms, total: 2.56 s\n",
      "Wall time: 2.56 s\n"
     ]
    },
    {
     "name": "stderr",
     "output_type": "stream",
     "text": [
      "/store/tveiga/miniconda3/envs/py/lib/python3.7/site-packages/sklearn/metrics/classification.py:1437: UserWarning: y_pred contains classes not in y_true\n",
      "  warnings.warn('y_pred contains classes not in y_true')\n"
     ]
    }
   ],
   "source": [
    "%%time\n",
    "# 0.91389\n",
    "val_pred = new.argmax(axis = 1)\n",
    "print(bas(y_test[rel == 0], val_pred[rel == 0]))\n",
    "print(bas(y_test[outsiders], val_pred[outsiders]))"
   ]
  },
  {
   "cell_type": "code",
   "execution_count": 28,
   "metadata": {},
   "outputs": [
    {
     "name": "stdout",
     "output_type": "stream",
     "text": [
      "'lstm_char_vanila' : 0.19517017235482512,\n",
      "'lstm_word' : 0.5094276278555186,\n",
      "'mnb_word-v1' : 0.5293506170628708,\n",
      "'sgd_char' : 0.3891042616760117,\n",
      "'sgd_word-v4' : 0.5279708638417783,\n"
     ]
    }
   ],
   "source": [
    "for df, coef in zip(dfs, est.coef_.flatten()):\n",
    "    print(f\"'{df}' : {coef},\")"
   ]
  },
  {
   "cell_type": "code",
   "execution_count": null,
   "metadata": {},
   "outputs": [],
   "source": []
  },
  {
   "cell_type": "code",
   "execution_count": 58,
   "metadata": {},
   "outputs": [],
   "source": [
    "# These values were found on cell above\n",
    "coefval = {\n",
    "'lstm_char_vanila' : 0.19517017235482512,\n",
    "'lstm_word' : 0.5094276278555186,\n",
    "'mnb_word-v1' : 0.5293506170628708,\n",
    "'sgd_char' : 0.3891042616760117,\n",
    "'sgd_word-v4' : 0.5279708638417783,\n",
    "}"
   ]
  },
  {
   "cell_type": "code",
   "execution_count": null,
   "metadata": {},
   "outputs": [],
   "source": []
  },
  {
   "cell_type": "code",
   "execution_count": 59,
   "metadata": {},
   "outputs": [
    {
     "name": "stdout",
     "output_type": "stream",
     "text": [
      "CPU times: user 30.6 s, sys: 13.2 s, total: 43.8 s\n",
      "Wall time: 9.38 s\n"
     ]
    }
   ],
   "source": [
    "%%time\n",
    "ensemble_val = sum(val[df] * coef for df, coef in coefval.items()) / sum(coefval.values())"
   ]
  },
  {
   "cell_type": "code",
   "execution_count": 61,
   "metadata": {},
   "outputs": [],
   "source": [
    "%%time\n",
    "ensemble_val.to_csv('../ensens/val_ensemble06.csv', index = False, header = False)"
   ]
  },
  {
   "cell_type": "markdown",
   "metadata": {},
   "source": [
    "## Test"
   ]
  },
  {
   "cell_type": "code",
   "execution_count": 34,
   "metadata": {},
   "outputs": [],
   "source": [
    "DIR = '../ensemb2/'"
   ]
  },
  {
   "cell_type": "code",
   "execution_count": 35,
   "metadata": {},
   "outputs": [],
   "source": [
    "test = {f[5:-4] : f for f in listdir(DIR) if ((isfile(join(DIR, f))) and f[0] == 't')}"
   ]
  },
  {
   "cell_type": "code",
   "execution_count": 36,
   "metadata": {},
   "outputs": [
    {
     "data": {
      "text/plain": [
       "({'mnb_word-v1': 'test_mnb_word-v1.csv',\n",
       "  'lstm_word': 'test_lstm_word.csv',\n",
       "  'lstm_char_vanila': 'test_lstm_char_vanila.csv',\n",
       "  'sgd_word-v4': 'test_sgd_word-v4.csv',\n",
       "  'sgd_char': 'test_sgd_char.csv'},\n",
       " 5)"
      ]
     },
     "execution_count": 36,
     "metadata": {},
     "output_type": "execute_result"
    }
   ],
   "source": [
    "test, len(test)"
   ]
  },
  {
   "cell_type": "code",
   "execution_count": 39,
   "metadata": {},
   "outputs": [
    {
     "name": "stdout",
     "output_type": "stream",
     "text": [
      "mnb_word-v1\n",
      "lstm_word\n",
      "lstm_char_vanila\n",
      "sgd_word-v4\n",
      "sgd_char\n",
      "CPU times: user 4min 25s, sys: 11.6 s, total: 4min 36s\n",
      "Wall time: 5min 30s\n"
     ]
    }
   ],
   "source": [
    "%%time\n",
    "for k, v in test.items():\n",
    "    print(k)\n",
    "    test[k] = pd.read_csv(DIR+v, header = None, index_col = False)"
   ]
  },
  {
   "cell_type": "code",
   "execution_count": 41,
   "metadata": {},
   "outputs": [],
   "source": [
    "# These values were found in the section above\n",
    "coeftest = {\n",
    "'lstm_char_vanila' : 0.19517017235482512,\n",
    "'lstm_word' : 0.5094276278555186,\n",
    "'mnb_word-v1' : 0.5293506170628708,\n",
    "'sgd_char' : 0.3891042616760117,\n",
    "'sgd_word-v4' : 0.5279708638417783,\n",
    "}"
   ]
  },
  {
   "cell_type": "code",
   "execution_count": null,
   "metadata": {},
   "outputs": [],
   "source": []
  },
  {
   "cell_type": "code",
   "execution_count": 42,
   "metadata": {},
   "outputs": [
    {
     "name": "stdout",
     "output_type": "stream",
     "text": [
      "CPU times: user 30.1 s, sys: 9.85 s, total: 39.9 s\n",
      "Wall time: 14 s\n"
     ]
    }
   ],
   "source": [
    "%%time\n",
    "ensemble = sum(test[df] * coef for df, coef in coeftest.items()) / sum(coeftest.values())"
   ]
  },
  {
   "cell_type": "code",
   "execution_count": 43,
   "metadata": {},
   "outputs": [],
   "source": [
    "sample = pd.read_csv('../sample_submission.csv')"
   ]
  },
  {
   "cell_type": "code",
   "execution_count": 44,
   "metadata": {},
   "outputs": [
    {
     "name": "stdout",
     "output_type": "stream",
     "text": [
      "CPU times: user 3.32 s, sys: 593 ms, total: 3.91 s\n",
      "Wall time: 3.84 s\n"
     ]
    }
   ],
   "source": [
    "%%time\n",
    "sample['category'] = np.vectorize(catcode.get)(ensemble.values.argmax(axis=1))"
   ]
  },
  {
   "cell_type": "code",
   "execution_count": 45,
   "metadata": {},
   "outputs": [
    {
     "data": {
      "text/html": [
       "<div>\n",
       "<style scoped>\n",
       "    .dataframe tbody tr th:only-of-type {\n",
       "        vertical-align: middle;\n",
       "    }\n",
       "\n",
       "    .dataframe tbody tr th {\n",
       "        vertical-align: top;\n",
       "    }\n",
       "\n",
       "    .dataframe thead th {\n",
       "        text-align: right;\n",
       "    }\n",
       "</style>\n",
       "<table border=\"1\" class=\"dataframe\">\n",
       "  <thead>\n",
       "    <tr style=\"text-align: right;\">\n",
       "      <th></th>\n",
       "      <th>id</th>\n",
       "      <th>category</th>\n",
       "    </tr>\n",
       "  </thead>\n",
       "  <tbody>\n",
       "    <tr>\n",
       "      <th>0</th>\n",
       "      <td>0</td>\n",
       "      <td>DIAPER_BAGS</td>\n",
       "    </tr>\n",
       "    <tr>\n",
       "      <th>1</th>\n",
       "      <td>1</td>\n",
       "      <td>BABY_CHANGING_PADS</td>\n",
       "    </tr>\n",
       "    <tr>\n",
       "      <th>2</th>\n",
       "      <td>2</td>\n",
       "      <td>ENGINE_COOLING_FAN_MOTORS</td>\n",
       "    </tr>\n",
       "    <tr>\n",
       "      <th>3</th>\n",
       "      <td>3</td>\n",
       "      <td>AUTOMOTIVE_SHOCK_ABSORBER_BUMP_STOPS</td>\n",
       "    </tr>\n",
       "    <tr>\n",
       "      <th>4</th>\n",
       "      <td>4</td>\n",
       "      <td>BABY_CAR_SEATS</td>\n",
       "    </tr>\n",
       "  </tbody>\n",
       "</table>\n",
       "</div>"
      ],
      "text/plain": [
       "   id                              category\n",
       "0   0                           DIAPER_BAGS\n",
       "1   1                    BABY_CHANGING_PADS\n",
       "2   2             ENGINE_COOLING_FAN_MOTORS\n",
       "3   3  AUTOMOTIVE_SHOCK_ABSORBER_BUMP_STOPS\n",
       "4   4                        BABY_CAR_SEATS"
      ]
     },
     "execution_count": 45,
     "metadata": {},
     "output_type": "execute_result"
    }
   ],
   "source": [
    "sample.head()"
   ]
  },
  {
   "cell_type": "code",
   "execution_count": 47,
   "metadata": {},
   "outputs": [
    {
     "data": {
      "text/plain": [
       "(246955, 2)"
      ]
     },
     "execution_count": 47,
     "metadata": {},
     "output_type": "execute_result"
    }
   ],
   "source": [
    "sample.to_csv('../submission_ensemble06.csv', index = False)\n",
    "sample.shape"
   ]
  },
  {
   "cell_type": "code",
   "execution_count": 48,
   "metadata": {},
   "outputs": [
    {
     "data": {
      "text/html": [
       "<div>\n",
       "<style scoped>\n",
       "    .dataframe tbody tr th:only-of-type {\n",
       "        vertical-align: middle;\n",
       "    }\n",
       "\n",
       "    .dataframe tbody tr th {\n",
       "        vertical-align: top;\n",
       "    }\n",
       "\n",
       "    .dataframe thead th {\n",
       "        text-align: right;\n",
       "    }\n",
       "</style>\n",
       "<table border=\"1\" class=\"dataframe\">\n",
       "  <thead>\n",
       "    <tr style=\"text-align: right;\">\n",
       "      <th></th>\n",
       "      <th>id</th>\n",
       "      <th>category</th>\n",
       "    </tr>\n",
       "  </thead>\n",
       "  <tbody>\n",
       "    <tr>\n",
       "      <th>0</th>\n",
       "      <td>0</td>\n",
       "      <td>DIAPER_BAGS</td>\n",
       "    </tr>\n",
       "    <tr>\n",
       "      <th>1</th>\n",
       "      <td>1</td>\n",
       "      <td>BABY_CHANGING_PADS</td>\n",
       "    </tr>\n",
       "    <tr>\n",
       "      <th>2</th>\n",
       "      <td>2</td>\n",
       "      <td>ENGINE_COOLING_FAN_MOTORS</td>\n",
       "    </tr>\n",
       "    <tr>\n",
       "      <th>3</th>\n",
       "      <td>3</td>\n",
       "      <td>AUTOMOTIVE_SHOCK_ABSORBER_BUMP_STOPS</td>\n",
       "    </tr>\n",
       "    <tr>\n",
       "      <th>4</th>\n",
       "      <td>4</td>\n",
       "      <td>BABY_CAR_SEATS</td>\n",
       "    </tr>\n",
       "  </tbody>\n",
       "</table>\n",
       "</div>"
      ],
      "text/plain": [
       "   id                              category\n",
       "0   0                           DIAPER_BAGS\n",
       "1   1                    BABY_CHANGING_PADS\n",
       "2   2             ENGINE_COOLING_FAN_MOTORS\n",
       "3   3  AUTOMOTIVE_SHOCK_ABSORBER_BUMP_STOPS\n",
       "4   4                        BABY_CAR_SEATS"
      ]
     },
     "execution_count": 48,
     "metadata": {},
     "output_type": "execute_result"
    }
   ],
   "source": [
    "pd.read_csv('../submission_ensemble06.csv').head()"
   ]
  },
  {
   "cell_type": "code",
   "execution_count": 62,
   "metadata": {},
   "outputs": [
    {
     "name": "stdout",
     "output_type": "stream",
     "text": [
      "CPU times: user 6min 31s, sys: 7.73 s, total: 6min 39s\n",
      "Wall time: 6min 44s\n"
     ]
    }
   ],
   "source": [
    "%%time\n",
    "ensemble.to_csv('../ensens/test_ensemble06.csv', index = False, header = False)"
   ]
  }
 ],
 "metadata": {
  "kernelspec": {
   "display_name": "Python 3",
   "language": "python",
   "name": "python3"
  },
  "language_info": {
   "codemirror_mode": {
    "name": "ipython",
    "version": 3
   },
   "file_extension": ".py",
   "mimetype": "text/x-python",
   "name": "python",
   "nbconvert_exporter": "python",
   "pygments_lexer": "ipython3",
   "version": "3.7.2"
  }
 },
 "nbformat": 4,
 "nbformat_minor": 2
}
